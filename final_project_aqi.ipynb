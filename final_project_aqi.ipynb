{
  "cells": [
    {
      "cell_type": "code",
      "source": [
        "## import and read the data file based on input\n",
        "date=input(\"Enter date here in year, month, date format: \")\n",
        "import pandas as pd\n",
        "import numpy as np\n",
        "data = pd.read_csv(date)\n",
        "data\n",
        "\n"
      ],
      "metadata": {
        "colab": {
          "base_uri": "https://localhost:8080/",
          "height": 820
        },
        "id": "LHe7UOb-0jBm",
        "outputId": "792bf749-00da-4fe8-cf3a-7c1f1ee0f8f7"
      },
      "id": "LHe7UOb-0jBm",
      "execution_count": null,
      "outputs": [
        {
          "name": "stdout",
          "output_type": "stream",
          "text": [
            "Enter date here in year, month, date format: 20211224\n"
          ]
        },
        {
          "output_type": "execute_result",
          "data": {
            "text/plain": [
              "    hour    temp(F)   humidity         AQI        PM1      PM2.5       PM10\n",
              "0      0  42.206897  51.206897   74.827586  15.105862  23.448276  26.645172\n",
              "1      1  42.333333  51.366667   81.466667  17.470000  26.582333  30.720667\n",
              "2      2  41.266667  52.500000   91.900000  20.154000  31.453333  37.000333\n",
              "3      3  39.966667  54.133333  100.666667  22.989000  35.400000  41.405667\n",
              "4      4  39.600000  55.333333  112.833333  26.356333  40.306000  48.979000\n",
              "5      5  39.000000  56.666667  114.766667  26.774000  41.073667  50.033667\n",
              "6      6  37.900000  58.800000  121.466667  28.334333  43.830000  54.793667\n",
              "7      7  38.233333  62.100000  125.766667  28.790000  45.567667  57.950667\n",
              "8      8  38.266667  62.200000  128.666667  29.682667  46.765000  59.567000\n",
              "9      9  37.233333  65.066667  132.166667  30.250000  48.140333  61.433000\n",
              "10    10  37.500000  66.933333  129.600000  29.545333  47.121000  60.071000\n",
              "11    11  39.033333  65.200000  121.566667  27.856667  43.797667  55.458667\n",
              "12    12  39.300000  68.666667  125.700000  28.561667  45.514667  58.342333\n",
              "13    13  41.566667  74.266667  125.766667  28.697000  45.544000  58.140667\n",
              "14    14  43.100000  75.433333  124.100000  27.143000  44.907333  57.882667\n",
              "15    15  43.600000  76.100000  114.600000  23.920000  41.040333  53.198667\n",
              "16    16  45.433333  74.266667  116.000000  24.252333  41.619000  54.034667\n",
              "17    17  47.600000  72.500000  116.366667  25.116333  41.772667  53.697333\n",
              "18    18  49.166667  71.566667  106.633333  23.298000  37.815333  47.257667\n",
              "19    19  50.000000  70.166667  100.666667  22.360333  35.440333  42.834667\n",
              "20    20  50.366667  69.033333   95.433333  21.093333  33.152333  38.935000\n",
              "21    21  51.200000  67.433333   89.433333  19.027333  30.403000  34.746000\n",
              "22    22  50.766667  67.166667   87.800000  18.885667  29.615667  33.551333\n",
              "23    23  49.000000  71.966667   98.933333  21.726333  34.686333  41.023000"
            ],
            "text/html": [
              "\n",
              "\n",
              "  <div id=\"df-3f2c368b-bf16-4da6-8b8f-60e1318a47b1\">\n",
              "    <div class=\"colab-df-container\">\n",
              "      <div>\n",
              "<style scoped>\n",
              "    .dataframe tbody tr th:only-of-type {\n",
              "        vertical-align: middle;\n",
              "    }\n",
              "\n",
              "    .dataframe tbody tr th {\n",
              "        vertical-align: top;\n",
              "    }\n",
              "\n",
              "    .dataframe thead th {\n",
              "        text-align: right;\n",
              "    }\n",
              "</style>\n",
              "<table border=\"1\" class=\"dataframe\">\n",
              "  <thead>\n",
              "    <tr style=\"text-align: right;\">\n",
              "      <th></th>\n",
              "      <th>hour</th>\n",
              "      <th>temp(F)</th>\n",
              "      <th>humidity</th>\n",
              "      <th>AQI</th>\n",
              "      <th>PM1</th>\n",
              "      <th>PM2.5</th>\n",
              "      <th>PM10</th>\n",
              "    </tr>\n",
              "  </thead>\n",
              "  <tbody>\n",
              "    <tr>\n",
              "      <th>0</th>\n",
              "      <td>0</td>\n",
              "      <td>42.206897</td>\n",
              "      <td>51.206897</td>\n",
              "      <td>74.827586</td>\n",
              "      <td>15.105862</td>\n",
              "      <td>23.448276</td>\n",
              "      <td>26.645172</td>\n",
              "    </tr>\n",
              "    <tr>\n",
              "      <th>1</th>\n",
              "      <td>1</td>\n",
              "      <td>42.333333</td>\n",
              "      <td>51.366667</td>\n",
              "      <td>81.466667</td>\n",
              "      <td>17.470000</td>\n",
              "      <td>26.582333</td>\n",
              "      <td>30.720667</td>\n",
              "    </tr>\n",
              "    <tr>\n",
              "      <th>2</th>\n",
              "      <td>2</td>\n",
              "      <td>41.266667</td>\n",
              "      <td>52.500000</td>\n",
              "      <td>91.900000</td>\n",
              "      <td>20.154000</td>\n",
              "      <td>31.453333</td>\n",
              "      <td>37.000333</td>\n",
              "    </tr>\n",
              "    <tr>\n",
              "      <th>3</th>\n",
              "      <td>3</td>\n",
              "      <td>39.966667</td>\n",
              "      <td>54.133333</td>\n",
              "      <td>100.666667</td>\n",
              "      <td>22.989000</td>\n",
              "      <td>35.400000</td>\n",
              "      <td>41.405667</td>\n",
              "    </tr>\n",
              "    <tr>\n",
              "      <th>4</th>\n",
              "      <td>4</td>\n",
              "      <td>39.600000</td>\n",
              "      <td>55.333333</td>\n",
              "      <td>112.833333</td>\n",
              "      <td>26.356333</td>\n",
              "      <td>40.306000</td>\n",
              "      <td>48.979000</td>\n",
              "    </tr>\n",
              "    <tr>\n",
              "      <th>5</th>\n",
              "      <td>5</td>\n",
              "      <td>39.000000</td>\n",
              "      <td>56.666667</td>\n",
              "      <td>114.766667</td>\n",
              "      <td>26.774000</td>\n",
              "      <td>41.073667</td>\n",
              "      <td>50.033667</td>\n",
              "    </tr>\n",
              "    <tr>\n",
              "      <th>6</th>\n",
              "      <td>6</td>\n",
              "      <td>37.900000</td>\n",
              "      <td>58.800000</td>\n",
              "      <td>121.466667</td>\n",
              "      <td>28.334333</td>\n",
              "      <td>43.830000</td>\n",
              "      <td>54.793667</td>\n",
              "    </tr>\n",
              "    <tr>\n",
              "      <th>7</th>\n",
              "      <td>7</td>\n",
              "      <td>38.233333</td>\n",
              "      <td>62.100000</td>\n",
              "      <td>125.766667</td>\n",
              "      <td>28.790000</td>\n",
              "      <td>45.567667</td>\n",
              "      <td>57.950667</td>\n",
              "    </tr>\n",
              "    <tr>\n",
              "      <th>8</th>\n",
              "      <td>8</td>\n",
              "      <td>38.266667</td>\n",
              "      <td>62.200000</td>\n",
              "      <td>128.666667</td>\n",
              "      <td>29.682667</td>\n",
              "      <td>46.765000</td>\n",
              "      <td>59.567000</td>\n",
              "    </tr>\n",
              "    <tr>\n",
              "      <th>9</th>\n",
              "      <td>9</td>\n",
              "      <td>37.233333</td>\n",
              "      <td>65.066667</td>\n",
              "      <td>132.166667</td>\n",
              "      <td>30.250000</td>\n",
              "      <td>48.140333</td>\n",
              "      <td>61.433000</td>\n",
              "    </tr>\n",
              "    <tr>\n",
              "      <th>10</th>\n",
              "      <td>10</td>\n",
              "      <td>37.500000</td>\n",
              "      <td>66.933333</td>\n",
              "      <td>129.600000</td>\n",
              "      <td>29.545333</td>\n",
              "      <td>47.121000</td>\n",
              "      <td>60.071000</td>\n",
              "    </tr>\n",
              "    <tr>\n",
              "      <th>11</th>\n",
              "      <td>11</td>\n",
              "      <td>39.033333</td>\n",
              "      <td>65.200000</td>\n",
              "      <td>121.566667</td>\n",
              "      <td>27.856667</td>\n",
              "      <td>43.797667</td>\n",
              "      <td>55.458667</td>\n",
              "    </tr>\n",
              "    <tr>\n",
              "      <th>12</th>\n",
              "      <td>12</td>\n",
              "      <td>39.300000</td>\n",
              "      <td>68.666667</td>\n",
              "      <td>125.700000</td>\n",
              "      <td>28.561667</td>\n",
              "      <td>45.514667</td>\n",
              "      <td>58.342333</td>\n",
              "    </tr>\n",
              "    <tr>\n",
              "      <th>13</th>\n",
              "      <td>13</td>\n",
              "      <td>41.566667</td>\n",
              "      <td>74.266667</td>\n",
              "      <td>125.766667</td>\n",
              "      <td>28.697000</td>\n",
              "      <td>45.544000</td>\n",
              "      <td>58.140667</td>\n",
              "    </tr>\n",
              "    <tr>\n",
              "      <th>14</th>\n",
              "      <td>14</td>\n",
              "      <td>43.100000</td>\n",
              "      <td>75.433333</td>\n",
              "      <td>124.100000</td>\n",
              "      <td>27.143000</td>\n",
              "      <td>44.907333</td>\n",
              "      <td>57.882667</td>\n",
              "    </tr>\n",
              "    <tr>\n",
              "      <th>15</th>\n",
              "      <td>15</td>\n",
              "      <td>43.600000</td>\n",
              "      <td>76.100000</td>\n",
              "      <td>114.600000</td>\n",
              "      <td>23.920000</td>\n",
              "      <td>41.040333</td>\n",
              "      <td>53.198667</td>\n",
              "    </tr>\n",
              "    <tr>\n",
              "      <th>16</th>\n",
              "      <td>16</td>\n",
              "      <td>45.433333</td>\n",
              "      <td>74.266667</td>\n",
              "      <td>116.000000</td>\n",
              "      <td>24.252333</td>\n",
              "      <td>41.619000</td>\n",
              "      <td>54.034667</td>\n",
              "    </tr>\n",
              "    <tr>\n",
              "      <th>17</th>\n",
              "      <td>17</td>\n",
              "      <td>47.600000</td>\n",
              "      <td>72.500000</td>\n",
              "      <td>116.366667</td>\n",
              "      <td>25.116333</td>\n",
              "      <td>41.772667</td>\n",
              "      <td>53.697333</td>\n",
              "    </tr>\n",
              "    <tr>\n",
              "      <th>18</th>\n",
              "      <td>18</td>\n",
              "      <td>49.166667</td>\n",
              "      <td>71.566667</td>\n",
              "      <td>106.633333</td>\n",
              "      <td>23.298000</td>\n",
              "      <td>37.815333</td>\n",
              "      <td>47.257667</td>\n",
              "    </tr>\n",
              "    <tr>\n",
              "      <th>19</th>\n",
              "      <td>19</td>\n",
              "      <td>50.000000</td>\n",
              "      <td>70.166667</td>\n",
              "      <td>100.666667</td>\n",
              "      <td>22.360333</td>\n",
              "      <td>35.440333</td>\n",
              "      <td>42.834667</td>\n",
              "    </tr>\n",
              "    <tr>\n",
              "      <th>20</th>\n",
              "      <td>20</td>\n",
              "      <td>50.366667</td>\n",
              "      <td>69.033333</td>\n",
              "      <td>95.433333</td>\n",
              "      <td>21.093333</td>\n",
              "      <td>33.152333</td>\n",
              "      <td>38.935000</td>\n",
              "    </tr>\n",
              "    <tr>\n",
              "      <th>21</th>\n",
              "      <td>21</td>\n",
              "      <td>51.200000</td>\n",
              "      <td>67.433333</td>\n",
              "      <td>89.433333</td>\n",
              "      <td>19.027333</td>\n",
              "      <td>30.403000</td>\n",
              "      <td>34.746000</td>\n",
              "    </tr>\n",
              "    <tr>\n",
              "      <th>22</th>\n",
              "      <td>22</td>\n",
              "      <td>50.766667</td>\n",
              "      <td>67.166667</td>\n",
              "      <td>87.800000</td>\n",
              "      <td>18.885667</td>\n",
              "      <td>29.615667</td>\n",
              "      <td>33.551333</td>\n",
              "    </tr>\n",
              "    <tr>\n",
              "      <th>23</th>\n",
              "      <td>23</td>\n",
              "      <td>49.000000</td>\n",
              "      <td>71.966667</td>\n",
              "      <td>98.933333</td>\n",
              "      <td>21.726333</td>\n",
              "      <td>34.686333</td>\n",
              "      <td>41.023000</td>\n",
              "    </tr>\n",
              "  </tbody>\n",
              "</table>\n",
              "</div>\n",
              "      <button class=\"colab-df-convert\" onclick=\"convertToInteractive('df-3f2c368b-bf16-4da6-8b8f-60e1318a47b1')\"\n",
              "              title=\"Convert this dataframe to an interactive table.\"\n",
              "              style=\"display:none;\">\n",
              "\n",
              "  <svg xmlns=\"http://www.w3.org/2000/svg\" height=\"24px\"viewBox=\"0 0 24 24\"\n",
              "       width=\"24px\">\n",
              "    <path d=\"M0 0h24v24H0V0z\" fill=\"none\"/>\n",
              "    <path d=\"M18.56 5.44l.94 2.06.94-2.06 2.06-.94-2.06-.94-.94-2.06-.94 2.06-2.06.94zm-11 1L8.5 8.5l.94-2.06 2.06-.94-2.06-.94L8.5 2.5l-.94 2.06-2.06.94zm10 10l.94 2.06.94-2.06 2.06-.94-2.06-.94-.94-2.06-.94 2.06-2.06.94z\"/><path d=\"M17.41 7.96l-1.37-1.37c-.4-.4-.92-.59-1.43-.59-.52 0-1.04.2-1.43.59L10.3 9.45l-7.72 7.72c-.78.78-.78 2.05 0 2.83L4 21.41c.39.39.9.59 1.41.59.51 0 1.02-.2 1.41-.59l7.78-7.78 2.81-2.81c.8-.78.8-2.07 0-2.86zM5.41 20L4 18.59l7.72-7.72 1.47 1.35L5.41 20z\"/>\n",
              "  </svg>\n",
              "      </button>\n",
              "\n",
              "\n",
              "\n",
              "    <div id=\"df-2a760cc1-0bc4-4ab2-baa3-8c666d99cddd\">\n",
              "      <button class=\"colab-df-quickchart\" onclick=\"quickchart('df-2a760cc1-0bc4-4ab2-baa3-8c666d99cddd')\"\n",
              "              title=\"Suggest charts.\"\n",
              "              style=\"display:none;\">\n",
              "\n",
              "<svg xmlns=\"http://www.w3.org/2000/svg\" height=\"24px\"viewBox=\"0 0 24 24\"\n",
              "     width=\"24px\">\n",
              "    <g>\n",
              "        <path d=\"M19 3H5c-1.1 0-2 .9-2 2v14c0 1.1.9 2 2 2h14c1.1 0 2-.9 2-2V5c0-1.1-.9-2-2-2zM9 17H7v-7h2v7zm4 0h-2V7h2v10zm4 0h-2v-4h2v4z\"/>\n",
              "    </g>\n",
              "</svg>\n",
              "      </button>\n",
              "    </div>\n",
              "\n",
              "<style>\n",
              "  .colab-df-quickchart {\n",
              "    background-color: #E8F0FE;\n",
              "    border: none;\n",
              "    border-radius: 50%;\n",
              "    cursor: pointer;\n",
              "    display: none;\n",
              "    fill: #1967D2;\n",
              "    height: 32px;\n",
              "    padding: 0 0 0 0;\n",
              "    width: 32px;\n",
              "  }\n",
              "\n",
              "  .colab-df-quickchart:hover {\n",
              "    background-color: #E2EBFA;\n",
              "    box-shadow: 0px 1px 2px rgba(60, 64, 67, 0.3), 0px 1px 3px 1px rgba(60, 64, 67, 0.15);\n",
              "    fill: #174EA6;\n",
              "  }\n",
              "\n",
              "  [theme=dark] .colab-df-quickchart {\n",
              "    background-color: #3B4455;\n",
              "    fill: #D2E3FC;\n",
              "  }\n",
              "\n",
              "  [theme=dark] .colab-df-quickchart:hover {\n",
              "    background-color: #434B5C;\n",
              "    box-shadow: 0px 1px 3px 1px rgba(0, 0, 0, 0.15);\n",
              "    filter: drop-shadow(0px 1px 2px rgba(0, 0, 0, 0.3));\n",
              "    fill: #FFFFFF;\n",
              "  }\n",
              "</style>\n",
              "\n",
              "    <script>\n",
              "      async function quickchart(key) {\n",
              "        const containerElement = document.querySelector('#' + key);\n",
              "        const charts = await google.colab.kernel.invokeFunction(\n",
              "            'suggestCharts', [key], {});\n",
              "      }\n",
              "    </script>\n",
              "\n",
              "      <script>\n",
              "\n",
              "function displayQuickchartButton(domScope) {\n",
              "  let quickchartButtonEl =\n",
              "    domScope.querySelector('#df-2a760cc1-0bc4-4ab2-baa3-8c666d99cddd button.colab-df-quickchart');\n",
              "  quickchartButtonEl.style.display =\n",
              "    google.colab.kernel.accessAllowed ? 'block' : 'none';\n",
              "}\n",
              "\n",
              "        displayQuickchartButton(document);\n",
              "      </script>\n",
              "      <style>\n",
              "    .colab-df-container {\n",
              "      display:flex;\n",
              "      flex-wrap:wrap;\n",
              "      gap: 12px;\n",
              "    }\n",
              "\n",
              "    .colab-df-convert {\n",
              "      background-color: #E8F0FE;\n",
              "      border: none;\n",
              "      border-radius: 50%;\n",
              "      cursor: pointer;\n",
              "      display: none;\n",
              "      fill: #1967D2;\n",
              "      height: 32px;\n",
              "      padding: 0 0 0 0;\n",
              "      width: 32px;\n",
              "    }\n",
              "\n",
              "    .colab-df-convert:hover {\n",
              "      background-color: #E2EBFA;\n",
              "      box-shadow: 0px 1px 2px rgba(60, 64, 67, 0.3), 0px 1px 3px 1px rgba(60, 64, 67, 0.15);\n",
              "      fill: #174EA6;\n",
              "    }\n",
              "\n",
              "    [theme=dark] .colab-df-convert {\n",
              "      background-color: #3B4455;\n",
              "      fill: #D2E3FC;\n",
              "    }\n",
              "\n",
              "    [theme=dark] .colab-df-convert:hover {\n",
              "      background-color: #434B5C;\n",
              "      box-shadow: 0px 1px 3px 1px rgba(0, 0, 0, 0.15);\n",
              "      filter: drop-shadow(0px 1px 2px rgba(0, 0, 0, 0.3));\n",
              "      fill: #FFFFFF;\n",
              "    }\n",
              "  </style>\n",
              "\n",
              "      <script>\n",
              "        const buttonEl =\n",
              "          document.querySelector('#df-3f2c368b-bf16-4da6-8b8f-60e1318a47b1 button.colab-df-convert');\n",
              "        buttonEl.style.display =\n",
              "          google.colab.kernel.accessAllowed ? 'block' : 'none';\n",
              "\n",
              "        async function convertToInteractive(key) {\n",
              "          const element = document.querySelector('#df-3f2c368b-bf16-4da6-8b8f-60e1318a47b1');\n",
              "          const dataTable =\n",
              "            await google.colab.kernel.invokeFunction('convertToInteractive',\n",
              "                                                     [key], {});\n",
              "          if (!dataTable) return;\n",
              "\n",
              "          const docLinkHtml = 'Like what you see? Visit the ' +\n",
              "            '<a target=\"_blank\" href=https://colab.research.google.com/notebooks/data_table.ipynb>data table notebook</a>'\n",
              "            + ' to learn more about interactive tables.';\n",
              "          element.innerHTML = '';\n",
              "          dataTable['output_type'] = 'display_data';\n",
              "          await google.colab.output.renderOutput(dataTable, element);\n",
              "          const docLink = document.createElement('div');\n",
              "          docLink.innerHTML = docLinkHtml;\n",
              "          element.appendChild(docLink);\n",
              "        }\n",
              "      </script>\n",
              "    </div>\n",
              "  </div>\n"
            ]
          },
          "metadata": {},
          "execution_count": 86
        }
      ]
    },
    {
      "cell_type": "code",
      "source": [
        "##average concentrations\n",
        "print(\"PM2.5 average is: \", data['PM2.5'].mean())\n",
        "print(\"PM10 average is: \", data['PM10'].mean())\n"
      ],
      "metadata": {
        "colab": {
          "base_uri": "https://localhost:8080/"
        },
        "id": "1c0ymXef733y",
        "outputId": "fbe0fd71-2ef2-4386-c2bf-5aaae5132f5f"
      },
      "id": "1c0ymXef733y",
      "execution_count": null,
      "outputs": [
        {
          "output_type": "stream",
          "name": "stdout",
          "text": [
            "PM2.5 average is:  38.958178160919545\n",
            "PM10 average is:  48.23760440613027\n"
          ]
        }
      ]
    },
    {
      "cell_type": "code",
      "source": [
        "##plot PM10 by hour\n",
        "import matplotlib.pyplot as plt\n",
        "hour = np.array(data['hour'])\n",
        "pm10 = np.array(data['PM10'])\n",
        "plt.plot(hour, pm10)\n",
        "plt.xlabel('hour')\n",
        "plt.ylabel('PM10')"
      ],
      "metadata": {
        "colab": {
          "base_uri": "https://localhost:8080/",
          "height": 467
        },
        "id": "Xxbb2BQc8d5J",
        "outputId": "023c0e48-570f-4e0e-f222-0b552d2fdec3"
      },
      "id": "Xxbb2BQc8d5J",
      "execution_count": null,
      "outputs": [
        {
          "output_type": "execute_result",
          "data": {
            "text/plain": [
              "Text(0, 0.5, 'PM10')"
            ]
          },
          "metadata": {},
          "execution_count": 88
        },
        {
          "output_type": "display_data",
          "data": {
            "text/plain": [
              "<Figure size 640x480 with 1 Axes>"
            ],
            "image/png": "[encoded data removed]"
          },
          "metadata": {}
        }
      ]
    },
    {
      "cell_type": "code",
      "source": [
        "## plot PM2.5 by hour\n",
        "hour = np.array(data['hour'])\n",
        "PM2p5 = np.array(data['PM2.5'])\n",
        "plt.plot(hour, PM2p5)\n",
        "plt.xlabel('hour')\n",
        "plt.ylabel('PM2.5')"
      ],
      "metadata": {
        "colab": {
          "base_uri": "https://localhost:8080/",
          "height": 467
        },
        "id": "RXdigryb9sKR",
        "outputId": "721b727c-3d3f-476f-dc40-a8bea96c72b1"
      },
      "id": "RXdigryb9sKR",
      "execution_count": null,
      "outputs": [
        {
          "output_type": "execute_result",
          "data": {
            "text/plain": [
              "Text(0, 0.5, 'PM2.5')"
            ]
          },
          "metadata": {},
          "execution_count": 89
        },
        {
          "output_type": "display_data",
          "data": {
            "text/plain": [
              "<Figure size 640x480 with 1 Axes>"
            ],
            "image/png": "[encoded data removed]"
          },
          "metadata": {}
        }
      ]
    },
    {
      "cell_type": "code",
      "source": [
        "##Plot how the temp varied through the day\n",
        "hour = np.array(data['hour'])\n",
        "temp = np.array(data['temp(F)'])\n",
        "plt.plot(hour, temp)\n",
        "plt.xlabel('hour')\n",
        "plt.ylabel('temp')"
      ],
      "metadata": {
        "id": "QuKg0dIVaygn",
        "outputId": "6c87c441-56fc-441d-e324-cdf0d530a0d3",
        "colab": {
          "base_uri": "https://localhost:8080/",
          "height": 467
        }
      },
      "id": "QuKg0dIVaygn",
      "execution_count": null,
      "outputs": [
        {
          "output_type": "execute_result",
          "data": {
            "text/plain": [
              "Text(0, 0.5, 'temp')"
            ]
          },
          "metadata": {},
          "execution_count": 90
        },
        {
          "output_type": "display_data",
          "data": {
            "text/plain": [
              "<Figure size 640x480 with 1 Axes>"
            ],
            "image/png": "[encoded data removed]"
          },
          "metadata": {}
        }
      ]
    },
    {
      "cell_type": "code",
      "source": [
        "##Max and min temps+ when they were reached\n",
        "print(\"The max temp was\", int(data['temp(F)'].max()))\n",
        "print(\"the min temp was\", int(data['temp(F)'].min()))\n"
      ],
      "metadata": {
        "id": "Fnx3Rbhgchln",
        "outputId": "8a8118f9-21ea-454a-804e-009785ea1211",
        "colab": {
          "base_uri": "https://localhost:8080/"
        }
      },
      "id": "Fnx3Rbhgchln",
      "execution_count": null,
      "outputs": [
        {
          "output_type": "stream",
          "name": "stdout",
          "text": [
            "The max temp was 51\n",
            "the min temp was 37\n"
          ]
        }
      ]
    },
    {
      "cell_type": "code",
      "source": [
        "## the max values of both pollutants\n",
        "PM2pt5= int((data['PM2.5'].max())*10)/10 ##PM2.5 max value\n",
        "PM10= int(data['PM10'].max()) ## PM 10 max value\n",
        "print(PM2pt5,PM10)"
      ],
      "metadata": {
        "colab": {
          "base_uri": "https://localhost:8080/"
        },
        "id": "AnegcYk6-YQQ",
        "outputId": "b76a37e2-7ffb-4335-de62-0bb3c7df9e7e"
      },
      "id": "AnegcYk6-YQQ",
      "execution_count": null,
      "outputs": [
        {
          "output_type": "stream",
          "name": "stdout",
          "text": [
            "48.1 61\n"
          ]
        }
      ]
    },
    {
      "cell_type": "code",
      "source": [
        "## creating the Break Point Table\n",
        "PM_2pt5_BP_low=[0.0,12.1,35.5,55.5,150.5,250.5,350.5]\n",
        "PM_2pt5_BP_high=[12.0,35.4,55.4,150.4,250.4,350,5,500.4]\n",
        "PM_10_BP_low=[0,55,155,255,355,425,505]\n",
        "PM_10_BP_high=[54,154,254,354,424,504,604]\n",
        "AQI_low=[0,51,101,151,201,301,401]\n",
        "AQI_high=[50,100,150,200,300,400,500]\n",
        "if PM2pt5 >=0 and PM2pt5<=12:\n",
        "  index_Pm2pt5=0\n",
        "elif PM2pt5 >=12.1 and PM2pt5<=35.4:\n",
        "  index_Pm2pt5=1\n",
        "elif PM2pt5 >=35.5 and PM2pt5<=55.4:\n",
        "  index_Pm2pt5=2\n",
        "elif PM2pt5 >= 55.5 and PM2pt5<=150.4:\n",
        "  index_PM2pt5=3\n",
        "elif PM2pt5 >=150.5 and  PM2pt5<=250.4:\n",
        "  index_PM2pt5=4\n",
        "elif PM2pt5 >=250.5 and  PM2pt5<=350.4:\n",
        "  index_PM2pt5=5\n",
        "elif PM2pt5 >=350.5 and  PM2pt5<=500.4:\n",
        "  index_PM2pt5=6\n",
        "\n",
        "if PM10 >=0 and PM10<=54:\n",
        "  index_PM10=0\n",
        "elif PM10 >=55 and PM10<=154:\n",
        "  index_PM10=1\n",
        "elif PM10 >=155 and PM10<=254:\n",
        "  index_PM10=2\n",
        "elif PM10 >= 255 and PM10<=354:\n",
        "  index_PM10=3\n",
        "elif PM10 >=355 and  PM10<=424:\n",
        "  index_PM10=4\n",
        "elif PM10 >=425 and  PM10<=504:\n",
        "  index_PM10=5\n",
        "elif PM10 >=505 and  PM10<=604:\n",
        "  index_PM10=6\n",
        "\n",
        "index_Pm2pt5=int(index_Pm2pt5)\n",
        "index_PM10= int(index_PM10)"
      ],
      "metadata": {
        "id": "MGNnuQ6tMcTv"
      },
      "id": "MGNnuQ6tMcTv",
      "execution_count": null,
      "outputs": []
    },
    {
      "cell_type": "code",
      "source": [
        "##Using the equation to calculate the AQI\n",
        "type(index_Pm2pt5)\n",
        "PmM2pt5_Index= (AQI_high[index_Pm2pt5]-AQI_low[index_Pm2pt5])/(PM_2pt5_BP_high[index_Pm2pt5]-PM_2pt5_BP_low[index_Pm2pt5])*(PM2pt5-PM_2pt5_BP_low[index_Pm2pt5])+AQI_low[index_Pm2pt5]\n",
        "print(\"The index of PM2.5 is\" ,int(PmM2pt5_Index))\n",
        "\n",
        "PM10_Index=(AQI_high[index_PM10]-AQI_low[index_PM10])/(PM_10_BP_high[index_PM10]-PM_10_BP_low[index_PM10])*(PM10-PM_10_BP_low[index_PM10])+AQI_low[index_PM10]\n",
        "print(\"The index of PM10 is\" ,int(PM10_Index))\n",
        "\n",
        "\n"
      ],
      "metadata": {
        "colab": {
          "base_uri": "https://localhost:8080/"
        },
        "id": "WWUkWm6yGWmA",
        "outputId": "75c75b57-157c-4ce1-9ad9-baad136c5133"
      },
      "id": "WWUkWm6yGWmA",
      "execution_count": null,
      "outputs": [
        {
          "output_type": "stream",
          "name": "stdout",
          "text": [
            "The index of PM2.5 is 132\n",
            "The index of PM10 is 53\n"
          ]
        }
      ]
    }
  ],
  "metadata": {
    "colab": {
      "provenance": []
    },
    "language_info": {
      "name": "python"
    },
    "kernelspec": {
      "name": "python3",
      "display_name": "Python 3"
    }
  },
  "nbformat": 4,
  "nbformat_minor": 5
}