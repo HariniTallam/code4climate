{
  "nbformat": 4,
  "nbformat_minor": 0,
  "metadata": {
    "colab": {
      "provenance": []
    },
    "kernelspec": {
      "name": "python3",
      "display_name": "Python 3"
    },
    "language_info": {
      "name": "python"
    }
  },
  "cells": [
    {
      "cell_type": "code",
      "execution_count": 31,
      "metadata": {
        "id": "xUquHXVJ_Set",
        "outputId": "67e143b7-5458-436f-9b45-741323de0286",
        "colab": {
          "base_uri": "https://localhost:8080/"
        }
      },
      "outputs": [
        {
          "output_type": "stream",
          "name": "stdout",
          "text": [
            "Enter a number: 20\n",
            "Enter a bigger number: 100\n",
            "25\n",
            "35\n",
            "49\n",
            "63\n",
            "81\n",
            "99\n"
          ]
        }
      ],
      "source": [
        "\n",
        " lower=int(input(\"Enter a number: \"))\n",
        "upper=int(input(\"Enter a bigger number: \"))\n",
        "if lower>=upper: print(\"not valid\")\n",
        "def odd_square_numbers_in_range(lower, upper):\n",
        "  odd_square_numbers_in_range(lower,upper)\n",
        "\n",
        "for val in range(lower, upper):\n",
        "    if val%2==1 :\n",
        "     #int(val**0.5)  ## squareroot, convert to integer, and then check if integer is divisor of original value\n",
        "     if (int(val)%int(val**0.5))==0 :\n",
        "       print(val)\n",
        "\n",
        "\n",
        "\n"
      ]
    },
    {
      "cell_type": "code",
      "source": [],
      "metadata": {
        "id": "Cp5UX42eN_6c"
      },
      "execution_count": null,
      "outputs": []
    }
  ]
}