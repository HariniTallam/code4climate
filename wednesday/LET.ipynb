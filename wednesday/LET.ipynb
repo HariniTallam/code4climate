{
  "nbformat": 4,
  "nbformat_minor": 0,
  "metadata": {
    "colab": {
      "provenance": []
    },
    "kernelspec": {
      "name": "python3",
      "display_name": "Python 3"
    },
    "language_info": {
      "name": "python"
    }
  },
  "cells": [
    {
      "cell_type": "code",
      "execution_count": 1,
      "metadata": {
        "id": "xUquHXVJ_Set",
        "outputId": "c18e420a-41ff-4fdf-a513-dd925b132775",
        "colab": {
          "base_uri": "https://localhost:8080/"
        }
      },
      "outputs": [
        {
          "output_type": "stream",
          "name": "stdout",
          "text": [
            "Enter a number: 20\n",
            "Enter a bigger number: 100\n",
            "25\n",
            "49\n",
            "81\n"
          ]
        }
      ],
      "source": [
        "found=0\n",
        "lower=int(input(\"Enter a number: \"))\n",
        "upper=int(input(\"Enter a bigger number: \"))\n",
        "\n",
        "if lower>=upper:\n",
        "  print(\"not valid\")\n",
        "\n",
        "def odd_square_numbers_in_range(lower, upper):\n",
        " odd_square_numbers_in_range(lower,upper)\n",
        "\n",
        "for val in range(lower, upper):\n",
        "    if val%2==1:\n",
        "      if ((val**0.5)-int(val**0.5))==0:## check if the integer version and actual version of the code are the same\n",
        "       print(val)\n",
        "       found=1\n",
        "if found==0:\n",
        "  print(\"No values found\")\n",
        "\n",
        "\n",
        "\n",
        "\n",
        "\n"
      ]
    },
    {
      "cell_type": "code",
      "source": [],
      "metadata": {
        "id": "Cp5UX42eN_6c"
      },
      "execution_count": null,
      "outputs": []
    }
  ]
}