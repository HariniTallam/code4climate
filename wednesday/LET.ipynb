{
  "nbformat": 4,
  "nbformat_minor": 0,
  "metadata": {
    "colab": {
      "provenance": []
    },
    "kernelspec": {
      "name": "python3",
      "display_name": "Python 3"
    },
    "language_info": {
      "name": "python"
    }
  },
  "cells": [
    {
      "cell_type": "code",
      "execution_count": null,
      "metadata": {
        "id": "xUquHXVJ_Set",
        "outputId": "35cb02d1-7f27-4394-fe78-09b2379f3924",
        "colab": {
          "base_uri": "https://localhost:8080/"
        }
      },
      "outputs": [
        {
          "output_type": "stream",
          "name": "stdout",
          "text": [
            "Enter a number: 0\n",
            "Enter a bigger number: 100\n",
            "1\n",
            "9\n",
            "25\n",
            "49\n",
            "81\n"
          ]
        }
      ],
      "source": [
        "\n",
        "lower=int(input(\"Enter a number: \"))\n",
        "upper=int(input(\"Enter a bigger number: \"))\n",
        "\n",
        "if lower>=upper:\n",
        "  print(\"not valid\")\n",
        "\n",
        "def odd_square_numbers_in_range(lower, upper):\n",
        " odd_square_numbers_in_range(lower,upper)\n",
        "\n",
        "for val in range(lower, upper):\n",
        "    if val%2==1:\n",
        "     #int(val**0.5)  ## squareroot, convert to integer, and then check if integer is divisor of original value\n",
        "     if ((val**0.5)-int(val**0.5))==0:\n",
        "       print(val)\n",
        "\n",
        "\n",
        "\n"
      ]
    },
    {
      "cell_type": "code",
      "source": [],
      "metadata": {
        "id": "Cp5UX42eN_6c"
      },
      "execution_count": null,
      "outputs": []
    }
  ]
}