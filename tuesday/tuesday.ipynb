{
 "cells": [
  {
   "cell_type": "markdown",
   "metadata": {
    "colab_type": "text",
    "id": "view-in-github"
   },
   "source": [
    "<a href=\"https://colab.research.google.com/github/kmmukut/code4climate/blob/main/tuesday/tuesday.ipynb\" target=\"_parent\"><img src=\"https://colab.research.google.com/assets/colab-badge.svg\" alt=\"Open In Colab\"/></a>"
   ]
  },
  {
   "cell_type": "markdown",
   "metadata": {
    "id": "6LhNrevdKwO2"
   },
   "source": [
    "# ***Topics to be covered:***\n",
    "\n",
    "\n",
    "*   Basic data types and syntax\n",
    "*   Control structures\n",
    "*   Important data structures\n",
    "*   Function declarations\n",
    "\n"
   ]
  },
  {
   "cell_type": "markdown",
   "metadata": {
    "id": "uOhvU5rtLvi6"
   },
   "source": [
    "# ***Comments in Our Code:***\n",
    "\n",
    "*Comments are useful for us to understand the code when we look at it at a later time. *\n",
    "\n",
    "`#` *used for in line comments*\n",
    "\n",
    "\n",
    "` ''' Multi-line Comments '''` Remember this only works in python (.py) files and does not work in notebook (.ipynb) files.\n",
    "\n",
    "\n",
    "\n"
   ]
  },
  {
   "cell_type": "code",
   "execution_count": 1,
   "metadata": {
    "id": "UfRN4JHPMihj"
   },
   "outputs": [
    {
     "name": "stdout",
     "output_type": "stream",
     "text": [
      " anything after # in a single line is commented or ignored by the python program \n"
     ]
    }
   ],
   "source": [
    "# This entire line is commented\n",
    "# This line is commented too\n",
    "\n",
    "print(\" anything after # in a single line is commented or ignored by the python program \") # This is commented too\n",
    "\n",
    "\n"
   ]
  },
  {
   "cell_type": "markdown",
   "metadata": {
    "id": "77XAG8Gpr9-0"
   },
   "source": [
    "# ***Demonstrate an Example Code***"
   ]
  },
  {
   "cell_type": "code",
   "execution_count": null,
   "metadata": {
    "id": "lEaxImbSsDf-"
   },
   "outputs": [],
   "source": [
    "# Example Code Demonstration\n",
    "# Mad Lib created by Jesus\n",
    "\n",
    "noun1 = input(\"Please enter a noun: \")\n",
    "noun1=str(noun1)\n",
    "pluralnoun1 = input(\"Please enter a plural noun: \")\n",
    "pluralnoun1=str(pluralnoun1)\n",
    "noun2 = input(\"Please enter another noun: \")\n",
    "noun2=str(noun2)\n",
    "pluralnoun2 = input(\"Please enter a different plural noun: \")\n",
    "pluralnoun2=str(pluralnoun2)\n",
    "print(\"Once that's done, I get some \" + pluralnoun1 + \", and then its off to my first \" + noun1 + \".\")\n",
    "#Story\n",
    "print(\"Every day, the mighty \" + noun1 + \" walked across the river known as the Magical River of Life \")\n",
    "print(\"One day, while walking on the river, the scary \" + pluralnoun1 + \" suddenly appeared in a group, and were determined to take down the \" + noun1 + \"!\")\n",
    "print(\"However, to the relief of the \" + noun1 + \", the feared \" + noun2 + \" came to save the day from the \" + pluralnoun1 + \"!\")\n",
    "print(\"Together, with the help of the \" + pluralnoun2 + \", they managed to scare away the \" + pluralnoun1 + \" and save the \" + noun1 + \"!\")"
   ]
  },
  {
   "cell_type": "markdown",
   "metadata": {
    "id": "x_KiWHCTLMZG"
   },
   "source": [
    "# ***Variables***\n",
    "\n",
    "*Variables in Python are defined and typed for you when you set a value to them In Python, variable names must follow certain rules:*\n",
    "\n",
    "\n",
    "*   A variable name must start with a letter or the underscore character.\n",
    "*   A variable name cannot start with a number.\n",
    "*   A variable name can only contain alpha-numeric characters and underscores (A-z, 0-9, and _).\n",
    "*   Variable names are case-sensitive (age, Age and AGE are three different variables)\n",
    "\n",
    "\n",
    "\n",
    "---\n",
    "**Always choose variable names so that, the name itself makes sense with what they are going to be used for. Do not choose any variable names so that at a later time when you are looking at the code, you can not get an idea about where that particular variable is used.**\n",
    "\n",
    "\n",
    "Also, do not mix uppercase and lowercase characters when declaring a variable. We recommend using **lowercase characaters**.\n",
    "\n",
    "---\n",
    "\n",
    "\n",
    "\n",
    "*Good variable name selection. Human readable and consistent formating*\n",
    "```\n",
    "noun = 'chair'\n",
    "number_1 = 24\n",
    "year = 2020\n",
    "```\n",
    "\n",
    "*bad variable name selection*\n",
    "```\n",
    "Noun = 'chair'\n",
    "Number1 = 24\n",
    "sdfas = 2020\n",
    "```\n",
    "\n",
    "\n",
    "\n",
    "\n"
   ]
  },
  {
   "cell_type": "code",
   "execution_count": null,
   "metadata": {
    "id": "76gmdCXuQrhM"
   },
   "outputs": [],
   "source": [
    "# Demonstrate some use of variables\n"
   ]
  },
  {
   "cell_type": "markdown",
   "metadata": {
    "id": "k27CNgN0rO5D"
   },
   "source": [
    "# ***`input()` statement***\n",
    "\n",
    "The `input()` function in Python is used to take input from the user. It reads a line of text entered by the user and returns it as a string. The syntax for the `input()` function is as follows:\n",
    "\n",
    "\n",
    "\n",
    "```\n",
    "input([prompt])\n",
    "```\n",
    "Here, the prompt parameter is optional. It is a string that represents a default message before the input. If you want to write a message before the input, you can use this parameter.\n",
    "\n",
    "Here’s an example:\n",
    "\n",
    "\n",
    "\n",
    "```\n",
    "name = input(\"Enter your name: \")\n",
    "print(\"Hello, \", name)\n",
    "\n",
    "```\n",
    "\n",
    "\n",
    "\n"
   ]
  },
  {
   "cell_type": "code",
   "execution_count": 4,
   "metadata": {
    "id": "S8DPHoA3rnSG"
   },
   "outputs": [
    {
     "name": "stdout",
     "output_type": "stream",
     "text": [
      "Enter your name: Harini\n",
      "Hello,  name\n"
     ]
    }
   ],
   "source": [
    "# input() statement\n",
    "name = input(\"Enter your name: \")\n",
    "print(\"Hello, \", \"name\")\n",
    "   "
   ]
  },
  {
   "cell_type": "markdown",
   "metadata": {
    "id": "X4CkRm3VSvh6"
   },
   "source": [
    "# ***Python Data Types and Syntax***\n",
    "\n",
    "\n",
    "\n",
    "\n",
    "> *Numerical data types:*\n",
    "  * `a = 33` (integer)\n",
    "  * `a = 33.0` (floating point)\n",
    "  * `a = True` (boolean) ---> can only have 2 values, i.e. 1 for True, 0 for False  \n",
    "\n",
    "> *Characters are strings of length one. Lenth of string is equal to the number of the character in the string.*\n",
    "  * `c = \"u\"` or `c = 'u'`\n",
    "\n",
    "> *Check type of variables with `type()`:*\n",
    "  * `type(33) = int`\n",
    "\n"
   ]
  },
  {
   "cell_type": "code",
   "execution_count": null,
   "metadata": {
    "id": "DwKxq9XbKtPi"
   },
   "outputs": [],
   "source": [
    "my_variable = 2\n",
    "print(my_variable)\n",
    "type(my_variable)"
   ]
  },
  {
   "cell_type": "markdown",
   "metadata": {
    "id": "uPEhGzuFKtPm"
   },
   "source": [
    "\n",
    "***If you accidentally mistype a variable name, Python will not catch it for you. This can lead to bugs that can be hard to track - so beware***"
   ]
  },
  {
   "cell_type": "code",
   "execution_count": 5,
   "metadata": {
    "id": "GpBEv90cKtPo"
   },
   "outputs": [
    {
     "ename": "NameError",
     "evalue": "name 'my_variable' is not defined",
     "output_type": "error",
     "traceback": [
      "\u001b[1;31m---------------------------------------------------------------------------\u001b[0m",
      "\u001b[1;31mNameError\u001b[0m                                 Traceback (most recent call last)",
      "Cell \u001b[1;32mIn[5], line 1\u001b[0m\n\u001b[1;32m----> 1\u001b[0m my_varible \u001b[38;5;241m=\u001b[39m my_variable\u001b[38;5;241m+\u001b[39m\u001b[38;5;241m1\u001b[39m\n\u001b[0;32m      2\u001b[0m \u001b[38;5;28mprint\u001b[39m(my_variable)\n",
      "\u001b[1;31mNameError\u001b[0m: name 'my_variable' is not defined"
     ]
    }
   ],
   "source": [
    "my_varible = my_variable+1\n",
    "print(my_variable)\n",
    "\n",
    "# See how the code ran and do not show any errors"
   ]
  },
  {
   "cell_type": "markdown",
   "metadata": {
    "id": "5lNdOWQScSV5"
   },
   "source": [
    "# ***Practice Problem***\n",
    "*Your neighbor has an apple tree and he gives you some apples. You also have some apples from yesterday. Write a code to calculate the total number of apple you have. The program should ask for number of apples your neighbor gives you and the number of apple you had before.*\n"
   ]
  },
  {
   "cell_type": "code",
   "execution_count": 10,
   "metadata": {
    "id": "OwZdDpBtcRn5"
   },
   "outputs": [
    {
     "name": "stdout",
     "output_type": "stream",
     "text": [
      "Enter the number of apples your neighbor gives you: 24\n",
      "Enter the number of apples your already have with you: 24\n",
      "48\n"
     ]
    }
   ],
   "source": [
    "# Apple problem codeblocks\n",
    "\n",
    "number_of_apples_neighbor = input(\"Enter the number of apples your neighbor gives you: \")\n",
    "number_of_apples_mine = input(\"Enter the number of apples your already have with you: \")\n",
    "print(int(number_of_apples_neighbor) + int(number_of_apples_mine) )"
   ]
  },
  {
   "cell_type": "markdown",
   "metadata": {
    "id": "I8eKPIEqVHqh"
   },
   "source": [
    "# ***Types and Typecasting***\n",
    "\n",
    "*Typecasting is a mean to convert the type of variable once it is originally assigned.The usual typecasting is available in Python, so it is easy to convert strings to ints or floats, floats to ints, etc.*"
   ]
  },
  {
   "cell_type": "code",
   "execution_count": null,
   "metadata": {
    "id": "U8UFvEIzUizO"
   },
   "outputs": [],
   "source": [
    "a = \"1\"\n",
    "b = 5\n",
    "print(a+b)"
   ]
  },
  {
   "cell_type": "code",
   "execution_count": null,
   "metadata": {
    "id": "bUbc-BojVgYC"
   },
   "outputs": [],
   "source": [
    "a = \"1\"\n",
    "b = 5\n",
    "print(int(a)+b)"
   ]
  },
  {
   "cell_type": "markdown",
   "metadata": {
    "id": "PNhji7GNV_NS"
   },
   "source": [
    "*Note that the typing is dynamic. I.e. a variable that was initally say an integer can become another type (float, string, etc.) via reassignment.*"
   ]
  },
  {
   "cell_type": "code",
   "execution_count": null,
   "metadata": {
    "id": "l0LRgZwCViih"
   },
   "outputs": [],
   "source": [
    "a = \"1\"\n",
    "type(a)\n",
    "print(type(a))\n",
    "\n",
    "a = 1.0\n",
    "print(type(a))"
   ]
  },
  {
   "cell_type": "markdown",
   "metadata": {
    "id": "vqSPnGaqB9CY"
   },
   "source": [
    "*Typecasting is usually required when asking for user input by using the `input()` statement. *\n",
    "\n",
    "\n",
    "\n",
    "```\n",
    "number_1 = int(input(\"Enter a number: \"))\n",
    "number_2 = int(input(\"Enter another number: \"))\n",
    "\n",
    "print(number_1 + number_2)\n",
    "\n",
    "```\n",
    "\n"
   ]
  },
  {
   "cell_type": "code",
   "execution_count": 13,
   "metadata": {
    "id": "UUkIdmMBCp-y"
   },
   "outputs": [
    {
     "data": {
      "text/plain": [
       "4096"
      ]
     },
     "execution_count": 13,
     "metadata": {},
     "output_type": "execute_result"
    }
   ],
   "source": [
    "4**6"
   ]
  },
  {
   "cell_type": "markdown",
   "metadata": {
    "id": "sC6fmcdcYRhM"
   },
   "source": [
    "# ***Mathematical & Logical Operators***\n",
    "\n",
    "*   addition, subtraction, multiplication, division:\n",
    "  * `2+2`, `43-5`, `4*3`, `3/2`\n",
    "\n",
    "\n",
    "*   Modulus\n",
    "  * `3%2 = 1`\n",
    "*   exponentiation\n",
    "  * `2**3 = 8`\n",
    "*   logical operators\n",
    "  * `and`, or, `not`\n",
    "  * `== , != , < , <= , > , >=`\n",
    "\n"
   ]
  },
  {
   "cell_type": "code",
   "execution_count": null,
   "metadata": {
    "id": "CUbL3RD_brjM"
   },
   "outputs": [],
   "source": [
    "print(3/4)\n",
    "print(3.0 / 4.0)\n",
    "print(3%4)\n",
    "print(3//4)\n",
    "print(3**4)"
   ]
  },
  {
   "cell_type": "markdown",
   "metadata": {
    "id": "OX8fJJ3eZz5X"
   },
   "source": [
    "# ***print() Statement***\n",
    "*Places output on the screen*\n",
    "```\n",
    "i = 34\n",
    "print(i)\n",
    "```\n",
    "*Use comma between variables you want printed on the same line (i.e., comma will suppress a newline)*\n",
    "```\n",
    "i = 3\n",
    "j = 4\n",
    "print(i)\n",
    "print(i,j)\n",
    "```\n",
    "***The print() statement is extremely important for debugging a code. Usually when you write a code, it may contain some mistake. Debugging is finding that error based on the error statement from your compiler.***\n",
    "\n"
   ]
  },
  {
   "cell_type": "markdown",
   "metadata": {
    "id": "H7D0kW58XiFY"
   },
   "source": [
    "# ***Practice Problem***\n",
    "\n",
    "*Make a calculator using python, that can obtain two numbers from the user and add them together.*"
   ]
  },
  {
   "cell_type": "code",
   "execution_count": 18,
   "metadata": {
    "id": "D4hqJisrX15_"
   },
   "outputs": [
    {
     "name": "stdout",
     "output_type": "stream",
     "text": [
      "Give me any integer 12\n",
      "Again, give me any integer 12\n",
      "The answer is 24 .\n"
     ]
    }
   ],
   "source": [
    "var_1=input(\"Give me any integer \")\n",
    "var_2=input(\"Again, give me any integer \")\n",
    "print(\"The answer is\",int(var_1)+int(var_2),\".\")"
   ]
  },
  {
   "cell_type": "markdown",
   "metadata": {
    "id": "stQTvxTkvCm0"
   },
   "source": [
    "# ***Practice Problem***\n",
    "\n",
    "*Accept three numbers and print out their average*"
   ]
  },
  {
   "cell_type": "code",
   "execution_count": 23,
   "metadata": {
    "id": "lDyTeOohvPZB"
   },
   "outputs": [
    {
     "name": "stdout",
     "output_type": "stream",
     "text": [
      "Give me an integer 4\n",
      "Give me a different integer 6\n",
      "Give me another completely different integer 8\n",
      "The average of 4 , 6 ,and 8 is 6.0\n"
     ]
    }
   ],
   "source": [
    "var_1=input(\"Give me an integer \")\n",
    "var_2=input(\"Give me a different integer \")\n",
    "var_3=input(\"Give me another completely different integer \")\n",
    "Step_1 = int(var_1)+int(var_2)+int(var_3)\n",
    "print(\"The average of\" ,var_1,\",\" ,var_2,\",and\",var_3,\"is\" ,int(Step_1)/int(3))"
   ]
  },
  {
   "cell_type": "markdown",
   "metadata": {
    "id": "EkryRTCgWVd2"
   },
   "source": [
    "# ***Whitespace matters!***\n",
    "\n",
    "*Python does not use any braces (like {} in C) to separate one code blocks from other. All lines with the same indentation are part of the same block/scope. Therefore, it is absolutely important to avoid any unintentional whitespaces while writing code in python.*\n",
    "\n",
    "The advantage of such approach is that, you need to type less and the code is automatically **made beautifully arranged** by the structure itself."
   ]
  },
  {
   "cell_type": "markdown",
   "metadata": {
    "id": "rJpaSF76auw0"
   },
   "source": [
    "# ***Conditional Statements***\n",
    "\n",
    "***`if , elif, else`***\n",
    "\n",
    "Nothing remarkable here, just need to learn the syntax. Here, we should also mention spacing. Python is picky about indentation - you must start a newline after each conditional statement and indent the same number of spaces for every statement within the scope of that condition.\n",
    "\n",
    "```\n",
    "a = 20\n",
    "if a >= 22:\n",
    "   print(\"the code is going to if\")\n",
    "elif a >= 21:\n",
    "    print(\"the code is going to elif\")\n",
    "else:\n",
    "    print(\"the code is going else\")\n",
    "```\n",
    "\n",
    "\n",
    "\n",
    "\n"
   ]
  },
  {
   "cell_type": "code",
   "execution_count": null,
   "metadata": {
    "id": "tLhXBPVNV9mX"
   },
   "outputs": [],
   "source": [
    "# if/else/elif code block\n",
    "\n",
    "a = 200\n",
    "b = 33\n",
    "if b > a:\n",
    "  print(\"b is greater than a\")\n",
    "else:\n",
    "  print(\"b is not greater than a\")"
   ]
  },
  {
   "cell_type": "markdown",
   "metadata": {
    "id": "p9OwUKUWfZ-1"
   },
   "source": [
    "# ***Practice Problem***\n",
    "\n",
    "*Write a program that ask for a number from the user. But for multiples of\n",
    "three print “Fizz” instead of the number and for the multiples of five print “Buzz”. For numbers which are multiples of both three and five print “FizzBuzz*\n",
    "\n"
   ]
  },
  {
   "cell_type": "code",
   "execution_count": null,
   "metadata": {
    "id": "OySn-L2Rfm-0"
   },
   "outputs": [],
   "source": [
    "var_1=int(input(\"Give me a number: \"))\n",
    "\n",
    "if var_1%15==0:\n",
    " print(\"FizzBuzz\")\n",
    "elif var_1%5==0:\n",
    " print(\"Buzz\")\n",
    "elif var_1%3==0:\n",
    " print (\"Fizz\")\n",
    "else:\n",
    " print(var_1)"
   ]
  },
  {
   "cell_type": "code",
   "execution_count": null,
   "metadata": {
    "id": "ArXvv6QhhR0y"
   },
   "outputs": [],
   "source": [
    "# FizzBuzz Codeblock"
   ]
  },
  {
   "cell_type": "markdown",
   "metadata": {
    "id": "8_yeEL-oilMN"
   },
   "source": [
    "# ***Practice Problem***\n",
    "\n",
    "*Write a program to accept percentage from the user and display the grade according to the following criteria:*\n",
    "\n",
    "\n",
    "\n",
    "```\n",
    "Marks               Grades\n",
    " >90                   A\n",
    " >80 and <=90          B\n",
    ">=60 and <=80          C\n",
    "  below 60             D\n",
    "```\n",
    "\n",
    "\n",
    "\n",
    "\n",
    "\n",
    "\n",
    "\n"
   ]
  },
  {
   "cell_type": "code",
   "execution_count": 53,
   "metadata": {
    "id": "OFBgHpNTUTSq"
   },
   "outputs": [
    {
     "name": "stdout",
     "output_type": "stream",
     "text": [
      " What percent did you score? 70\n",
      "you got a C\n"
     ]
    }
   ],
   "source": [
    "# Grade calculation codeblock\n",
    "marks=int(input(\" What percent did you score? \"))\n",
    "if marks >90:\n",
    " print(\"Congrats, you got an A\")\n",
    "elif marks >80 and marks <=90:\n",
    " print(\"Good, you got a B\")\n",
    "elif marks>=60 and marks <=80:\n",
    " print(\"you got a C\")\n",
    "elif marks<60:\n",
    " print(\"You got a D \")"
   ]
  },
  {
   "cell_type": "markdown",
   "metadata": {
    "id": "LSH-WuK1ih7Z"
   },
   "source": [
    "# ***Practice Problems***\n",
    "\n",
    "*Write a program to check whether an year is leap year or not*\n",
    "\n",
    "\n",
    "\n"
   ]
  },
  {
   "cell_type": "code",
   "execution_count": 56,
   "metadata": {
    "id": "AtwE99HbUplZ"
   },
   "outputs": [
    {
     "name": "stdout",
     "output_type": "stream",
     "text": [
      "What is the year 200\n",
      "It is a leap year\n"
     ]
    }
   ],
   "source": [
    "# Leap year code block\n",
    "year=int(input(\"What is the year \"))\n",
    "if year%4==0:\n",
    "    print(\"It is a leap year\")\n",
    "else:\n",
    "    print(\"It isn't a leap year\")"
   ]
  },
  {
   "cell_type": "markdown",
   "metadata": {
    "id": "X2hRqJPVUvV4"
   },
   "source": [
    "# ***Practice Problem***\n",
    "\n",
    "*Write a program to accept a number from 1 to 7 and display the name of the like 1 for Sunday, 2 for Monday and so on.*\n",
    "\n",
    "\n"
   ]
  },
  {
   "cell_type": "code",
   "execution_count": 64,
   "metadata": {
    "id": "MaVe4Zy0V641"
   },
   "outputs": [
    {
     "name": "stdout",
     "output_type": "stream",
     "text": [
      "Give me a number from 1-7 4\n",
      "Wednesday\n"
     ]
    }
   ],
   "source": [
    "## day of the week code block\n",
    "number=int (input(\"Give me a number from 1-7 \"))\n",
    "\n",
    "if number==1:\n",
    " print(\"Sunday\")\n",
    "elif number==2:\n",
    " print(\"Monday\") \n",
    "elif number==3:\n",
    " print(\"Tuesday\")\n",
    "elif number==4:\n",
    " print(\"Wednesday\")\n",
    "elif number==5:\n",
    " print(\"Thursday\")\n",
    "elif number==6:\n",
    " print(\"Friday\")\n",
    "else:\n",
    " print(\"Saturday\")\n",
    "\n",
    "\n",
    "    "
   ]
  },
  {
   "cell_type": "markdown",
   "metadata": {
    "id": "q0g384W5WMpx"
   },
   "source": [
    "# ***Practice Problem***\n",
    "\n",
    "*Write a program to find the lowest number out of two number excepted from user*\n",
    "\n",
    "\n",
    "\n"
   ]
  },
  {
   "cell_type": "code",
   "execution_count": 66,
   "metadata": {
    "id": "LCIcY5c8Wpcg"
   },
   "outputs": [
    {
     "name": "stdout",
     "output_type": "stream",
     "text": [
      "Give me any number 5\n",
      "Give me any other number 6\n",
      "The smaller number is 5\n"
     ]
    }
   ],
   "source": [
    "# Lowest number code block\n",
    "a=int(input(\"Give me any number \"))\n",
    "b=int(input(\"Give me any other number \"))\n",
    "if a>b:\n",
    "    print (\"The smaller number is\",b)\n",
    "elif a<b:\n",
    "    print(\"The smaller number is\" ,a)\n",
    "else:\n",
    "    print(\"I said two different numbers\")\n"
   ]
  },
  {
   "cell_type": "markdown",
   "metadata": {
    "id": "VxVTbEMUWsnR"
   },
   "source": [
    "# ***Practice Problem***\n",
    "\n",
    "*Write a program to check if a number is divisible by 2 and 3 at the same time*\n",
    "\n",
    "\n"
   ]
  },
  {
   "cell_type": "code",
   "execution_count": 69,
   "metadata": {
    "id": "AEocAJ6TWsAf"
   },
   "outputs": [
    {
     "name": "stdout",
     "output_type": "stream",
     "text": [
      "Give me a number 5\n",
      "divisible by neither\n"
     ]
    }
   ],
   "source": [
    "# code block for divisibility\n",
    "number=int(input(\"Give me a number \"))\n",
    "if number%2==0 and number%3==0:\n",
    "    print(\"Divisible by both\")\n",
    "elif number%3==0:\n",
    "    print(\"Only divisible by 3\")\n",
    "elif number%2==0:\n",
    "    print(\"only divisible by 2\")\n",
    "else:\n",
    "    print(\"divisible by neither\")\n",
    "\n"
   ]
  },
  {
   "cell_type": "markdown",
   "metadata": {
    "id": "w5eY95QtXdvx"
   },
   "source": [
    "# ***Practice Problem***\n",
    "\n",
    "*Calculate the electric bill of a household. The program should ask for the power consumption in KWh (unit of power consumption). The charge of electricity increases incrementally as the usage increases and the rates are as follows:*\n",
    "\n",
    "\n",
    "\n",
    "```\n",
    "Cost[$/kWh]              Usage [kWh]\n",
    "    1                        <50\n",
    "   1.5                  <=50 and <80\n",
    "    2                   <=80 and <200\n",
    "   2.5                    above 200\n",
    "```\n",
    "\n",
    "\n"
   ]
  },
  {
   "cell_type": "code",
   "execution_count": 76,
   "metadata": {
    "id": "L41eSeZJXdZy"
   },
   "outputs": [
    {
     "name": "stdout",
     "output_type": "stream",
     "text": [
      "Tell me your power consumption in kWh: 200\n",
      "You have to pay $ 500.0\n"
     ]
    }
   ],
   "source": [
    "## electric bill problem\n",
    "usage=int(input(\"Tell me your power consumption in kWh: \" ))\n",
    "if usage < 50:\n",
    "    print(\"You have to pay $\" ,usage)\n",
    "elif usage <= 50 and usage <80:\n",
    "    print(\"You have to pay $\" ,usage* 1.5)\n",
    "elif usage <=80 and usage <200:\n",
    "    print(\"You have to pay $\" ,usage* 2)\n",
    "else:\n",
    "    print(\"You have to pay $\" ,usage* 2.5 )\n"
   ]
  },
  {
   "cell_type": "code",
   "execution_count": null,
   "metadata": {
    "id": "UFaxRKN1YuJT"
   },
   "outputs": [],
   "source": [
    "\n"
   ]
  },
  {
   "cell_type": "markdown",
   "metadata": {
    "id": "CFaxCt6hg5TL"
   },
   "source": [
    "# ***Lists***\n",
    "\n",
    "Lists are exactly as the name implies. They are lists of objects. The objects can be any data type (including lists), and it is allowed to mix data types. In this way they are much more flexible than arrays. It is possible to append, delete, insert and count elements and to sort, reverse, etc. the list.\n",
    "\n",
    "\n",
    "\n",
    "```\n",
    "a_list = [1,2,3,\"this is a string\",5.3]\n",
    "b_list = [\"A\",\"B\",\"F\",\"G\",\"d\",\"x\",\"c\",a_list,3]\n",
    "print(b_list)\n",
    "print(b_list[7:9])\n",
    "```\n",
    "\n",
    "\n",
    "```\n",
    "a = [1,2,3,4,5,6,7]\n",
    "a.insert(0,0)\n",
    "print(a)\n",
    "a.append(8)\n",
    "print(a)\n",
    "a.reverse()\n",
    "print(a)\n",
    "a.sort()\n",
    "print(a)\n",
    "a.pop()\n",
    "print(a)\n",
    "a.remove(3)\n",
    "print(a)\n",
    "a.remove(a[4])\n",
    "print(a)\n",
    "```\n",
    "\n",
    "***Elements are indexed from 0. Any string is essentially a list***\n",
    "\n",
    "\n"
   ]
  },
  {
   "cell_type": "code",
   "execution_count": null,
   "metadata": {
    "id": "ronTFR0ThZ2j"
   },
   "outputs": [],
   "source": [
    "# Demo code block for lists"
   ]
  },
  {
   "cell_type": "markdown",
   "metadata": {
    "id": "c2nZ-2GdeiWQ"
   },
   "source": [
    "# ***Loops or Iterators***\n",
    "*Python has the usual iterators, while, for, and some other constructions that will be addressed later:*\n",
    "\n",
    "\n",
    "\n",
    "```\n",
    "for i in range(1,10):\n",
    "     print(i)\n",
    "```\n",
    "\n",
    "*`range()` : the range function gives us values up to, but not including, the upper limit.*\n",
    "\n",
    "```\n",
    "i = 1\n",
    "while i < 10:\n",
    "    print(i)\n",
    "    i+=1\n",
    "```\n",
    "\n",
    "`for()` and `while()` essentially do the same things. But depending on the situation one may be more convenient than other\n"
   ]
  },
  {
   "cell_type": "code",
   "execution_count": null,
   "metadata": {
    "id": "lWfB15c2fwuZ"
   },
   "outputs": [],
   "source": [
    "# Code blocks for loops\n",
    "i=1\n",
    "while 1"
   ]
  },
  {
   "cell_type": "markdown",
   "metadata": {
    "id": "aO8yVSiEiAXU"
   },
   "source": [
    "*Lists can be constructed using ‘for’ and some conditional statements. These are called, ‘list comprehensions’. For example:*\n",
    "\n",
    "\n",
    "\n",
    "```\n",
    "even_numbers = [x for x in range(100) if x % 2 == 0]\n",
    "print(even_numbers)\n",
    "```\n",
    "*List comprehensions can work on strings as well:*\n",
    "\n",
    "\n",
    "\n",
    "\n",
    "```\n",
    "first_sentence = \"It was a dark and stormy night.\"\n",
    "characters = [x for x in first_sentence]\n",
    "print(characters)\n",
    "```\n",
    "\n",
    "`len()` can be used to find the number of element in a list.\n",
    "\n",
    "\n",
    "\n",
    "```\n",
    "first_sentence = \"It was a dark and stormy night.\"\n",
    "number_of_character = len(first_sentence)\n",
    "print(number_of_character)\n",
    "```\n",
    "\n",
    "\n"
   ]
  },
  {
   "cell_type": "code",
   "execution_count": 70,
   "metadata": {
    "id": "M0GmUb7Vk1tp"
   },
   "outputs": [
    {
     "name": "stdout",
     "output_type": "stream",
     "text": [
      "31\n"
     ]
    }
   ],
   "source": [
    "# list demo\n",
    "first_sentence = \"It was a dark and stormy night.\"\n",
    "number_of_character = len(first_sentence)\n",
    "print(number_of_character)"
   ]
  },
  {
   "cell_type": "markdown",
   "metadata": {
    "id": "rvJwXWjOhSg2"
   },
   "source": [
    "# ***Practice Problem***\n",
    "\n",
    "*Write a program that prints the numbers from 1 to 100. But for multiples of\n",
    "three print “Fizz” instead of the number and for the multiples of five print “Buzz”. For numbers which are multiples of both three and five print “FizzBuzz\"*\n",
    "\n",
    "\n",
    "\n",
    "```\n",
    "for i in range(1, 101):\n",
    "    if i % 15 == 0:\n",
    "        print(\"FizzBuzz\")\n",
    "    elif i % 3 == 0:\n",
    "        print(\"Fizz\")\n",
    "    elif i % 5 == 0:\n",
    "        print(\"Buzz\")\n",
    "    else:\n",
    "        print(i)\n",
    "```\n",
    "\n",
    "\n"
   ]
  },
  {
   "cell_type": "code",
   "execution_count": 72,
   "metadata": {
    "id": "S5k9fZu3jLS1"
   },
   "outputs": [
    {
     "name": "stdout",
     "output_type": "stream",
     "text": [
      "1\n",
      "2\n",
      "Fizz\n",
      "4\n",
      "Buzz\n",
      "Fizz\n",
      "7\n",
      "8\n",
      "Fizz\n",
      "Buzz\n",
      "11\n",
      "Fizz\n",
      "13\n",
      "14\n",
      "FizzBuzz\n",
      "16\n",
      "17\n",
      "Fizz\n",
      "19\n",
      "Buzz\n",
      "Fizz\n",
      "22\n",
      "23\n",
      "Fizz\n",
      "Buzz\n",
      "26\n",
      "Fizz\n",
      "28\n",
      "29\n",
      "FizzBuzz\n",
      "31\n",
      "32\n",
      "Fizz\n",
      "34\n",
      "Buzz\n",
      "Fizz\n",
      "37\n",
      "38\n",
      "Fizz\n",
      "Buzz\n",
      "41\n",
      "Fizz\n",
      "43\n",
      "44\n",
      "FizzBuzz\n",
      "46\n",
      "47\n",
      "Fizz\n",
      "49\n",
      "Buzz\n",
      "Fizz\n",
      "52\n",
      "53\n",
      "Fizz\n",
      "Buzz\n",
      "56\n",
      "Fizz\n",
      "58\n",
      "59\n",
      "FizzBuzz\n",
      "61\n",
      "62\n",
      "Fizz\n",
      "64\n",
      "Buzz\n",
      "Fizz\n",
      "67\n",
      "68\n",
      "Fizz\n",
      "Buzz\n",
      "71\n",
      "Fizz\n",
      "73\n",
      "74\n",
      "FizzBuzz\n",
      "76\n",
      "77\n",
      "Fizz\n",
      "79\n",
      "Buzz\n",
      "Fizz\n",
      "82\n",
      "83\n",
      "Fizz\n",
      "Buzz\n",
      "86\n",
      "Fizz\n",
      "88\n",
      "89\n",
      "FizzBuzz\n",
      "91\n",
      "92\n",
      "Fizz\n",
      "94\n",
      "Buzz\n",
      "Fizz\n",
      "97\n",
      "98\n",
      "Fizz\n"
     ]
    }
   ],
   "source": [
    "# Fizz Buzz problem\n",
    "for number in range (1,100):\n",
    "    if number % 5==0 and number % 3==0:\n",
    "     print(\"FizzBuzz\")\n",
    "    elif number % 5==0:\n",
    "     print(\"Buzz\")\n",
    "    elif number % 3==0:\n",
    "     print(\"Fizz\")\n",
    "    else:\n",
    "     print(number)\n",
    "\n",
    "    "
   ]
  },
  {
   "cell_type": "markdown",
   "metadata": {
    "id": "PYjm7rcwjL30"
   },
   "source": [
    "# ***Practice Problem***\n",
    "\n",
    "*write a program to print the first 10 natural numbers*"
   ]
  },
  {
   "cell_type": "code",
   "execution_count": null,
   "metadata": {
    "id": "nKTVc74ojhUb"
   },
   "outputs": [],
   "source": [
    "# blocks for practice\n"
   ]
  },
  {
   "cell_type": "markdown",
   "metadata": {
    "id": "kR54KAunjj3i"
   },
   "source": [
    "# ***Practice Problem***\n",
    "\n",
    "*write a program to print first 10 even number*"
   ]
  },
  {
   "cell_type": "code",
   "execution_count": 86,
   "metadata": {
    "id": "cChoclbrjl-R"
   },
   "outputs": [
    {
     "name": "stdout",
     "output_type": "stream",
     "text": [
      "2\n",
      "4\n",
      "6\n",
      "8\n",
      "10\n",
      "12\n",
      "14\n",
      "16\n",
      "18\n",
      "20\n"
     ]
    }
   ],
   "source": [
    "# blocks for practice\n",
    "counter=0\n",
    "while counter <19:\n",
    " counter = counter+2\n",
    " print(counter)"
   ]
  },
  {
   "cell_type": "markdown",
   "metadata": {
    "id": "UCkLk71wjoqB"
   },
   "source": [
    "# ***Practice Problem***\n",
    "\n",
    "*write a program to print first 10 even number in reverse order*"
   ]
  },
  {
   "cell_type": "code",
   "execution_count": null,
   "metadata": {
    "id": "Hxm2I7IyjvSO"
   },
   "outputs": [],
   "source": [
    "# blocks for practice"
   ]
  },
  {
   "cell_type": "markdown",
   "metadata": {
    "id": "n5ytkau8jxYX"
   },
   "source": [
    "# ***Practice Problem***\n",
    "\n",
    "*write a program to print table of a number accepted from user*"
   ]
  },
  {
   "cell_type": "code",
   "execution_count": null,
   "metadata": {
    "id": "KY2lP42ej8PI"
   },
   "outputs": [],
   "source": [
    "# code blocks for table"
   ]
  },
  {
   "cell_type": "markdown",
   "metadata": {
    "id": "Or4g7sLDj-70"
   },
   "source": [
    "# ***Practice Problem***\n",
    "\n",
    "*write a program to find the factorial of a number (the number should be less than 20)*"
   ]
  },
  {
   "cell_type": "code",
   "execution_count": null,
   "metadata": {
    "id": "1-FzLREXkJnx"
   },
   "outputs": [],
   "source": [
    "# factorial code block"
   ]
  },
  {
   "cell_type": "markdown",
   "metadata": {
    "id": "lm_02HXxqOXe"
   },
   "source": [
    "# ***Practice Problem***\n",
    "\n",
    "*Write a program to calculate the sum of first 10 natural numbers*"
   ]
  },
  {
   "cell_type": "code",
   "execution_count": null,
   "metadata": {
    "id": "sNaCrCakqUDC"
   },
   "outputs": [],
   "source": [
    "# sum of numbers"
   ]
  },
  {
   "cell_type": "markdown",
   "metadata": {
    "id": "-UrClPNOkPw8"
   },
   "source": [
    "# ***Practice Problem***\n",
    "\n",
    "*write a program to find the sum of all digits in a number*"
   ]
  },
  {
   "cell_type": "code",
   "execution_count": null,
   "metadata": {
    "id": "TYAs_AG5kPAO"
   },
   "outputs": [],
   "source": [
    "# code block for sum of digits"
   ]
  },
  {
   "cell_type": "markdown",
   "metadata": {
    "id": "K96bx9Aek_Ck"
   },
   "source": [
    "# ***Practice Problem***\n",
    "\n",
    "*write a program to find if a number is a prime number or not*"
   ]
  },
  {
   "cell_type": "code",
   "execution_count": null,
   "metadata": {
    "id": "L0WfxGvtl9ye"
   },
   "outputs": [],
   "source": [
    "# code block for prime numbers"
   ]
  },
  {
   "cell_type": "markdown",
   "metadata": {
    "id": "Sxj96NGrmAp8"
   },
   "source": [
    "# ***Practice Problem***\n",
    "\n",
    "*Accept 10 numbers from the user and display their average*"
   ]
  },
  {
   "cell_type": "code",
   "execution_count": null,
   "metadata": {
    "id": "hcpggXalmHh7"
   },
   "outputs": [],
   "source": [
    "# code block for average"
   ]
  },
  {
   "cell_type": "markdown",
   "metadata": {
    "id": "8GJv7kcWmKXo"
   },
   "source": [
    "# ***Practice Problem***\n",
    "\n",
    "*write a program to display all the numbers which are divisible by 11 but not by 2 between 100 and 500*"
   ]
  },
  {
   "cell_type": "code",
   "execution_count": null,
   "metadata": {
    "id": "eKt7ybsymXPm"
   },
   "outputs": [],
   "source": [
    "# divisible code block"
   ]
  },
  {
   "cell_type": "markdown",
   "metadata": {
    "id": "BP9Z0hd6mdeT"
   },
   "source": [
    "# ***Functions***\n",
    "\n",
    "*A Python function is a block of code that performs a specific task and can be reused in a program. There are two types of functions in Python: built-in functions that are provided by Python itself, and user-defined functions that are created by the programmer. You can define a function using the def keyword, and call it using the function name followed by parentheses. For example:*\n",
    "\n",
    "\n",
    "\n",
    "```\n",
    "def greet():\n",
    "  print(\"Hello from a function\")\n",
    "\n",
    "greet()\n",
    "```\n",
    "\n",
    "\n",
    "```\n",
    "def Division(a, b):\n",
    "    print(a/b)\n",
    "Division(3,4)\n",
    "Division(3.0,4.0)\n",
    "Division(3,4.0)\n",
    "Division(3.0,4)\n",
    "```\n",
    "\n",
    "*The output of a function can also be redirected to a variable.*\n",
    "\n",
    "\n",
    "\n",
    "```\n",
    "def Division(a, b):\n",
    "    return(a/b)\n",
    "result = Division (4,2)\n",
    "print(result)\n",
    "```\n",
    "\n"
   ]
  },
  {
   "cell_type": "code",
   "execution_count": null,
   "metadata": {
    "id": "luIoYi5Injm9"
   },
   "outputs": [],
   "source": [
    "# Function Demo"
   ]
  },
  {
   "cell_type": "markdown",
   "metadata": {
    "id": "t9MLeg35dX-b"
   },
   "source": [
    "# ***try/except***\n",
    "\n",
    "**Python has another type of conditional expression that is very useful. Suppose your program is processing user input or data from a file. You don’t always know for sure what you are getting in that case, and this can lead to problems. The ‘try/except’ conditional can solve them!**\n",
    "\n",
    "\n",
    "\n",
    "```\n",
    "a = \"1\"\n",
    "try:\n",
    "  b = a + 2\n",
    "except:\n",
    "  print(a, \" is not a number\")\n",
    "```\n",
    "\n",
    "*In a statically typed language, the programmer would have specified the type of a and b (float, int, etc.) and the compiler would have complained about the function being passed a variable of the wrong type. This does not happen here, but we can use the try/except construction.*\n",
    "\n",
    "\n",
    "\n",
    "\n",
    "```\n",
    "def Division(a, b):\n",
    "    try:\n",
    "        print(a/b)\n",
    "    except:\n",
    "        if b == 0:\n",
    "           print(\"cannot divide by zero\")\n",
    "        else:\n",
    "           print(float(a)/float(b))\n",
    "Division(2,\"2\")\n",
    "Division(2,0)\n",
    "```\n",
    "\n"
   ]
  },
  {
   "cell_type": "code",
   "execution_count": null,
   "metadata": {
    "id": "G-lZMqfpcibg"
   },
   "outputs": [],
   "source": [
    "# try except code block"
   ]
  },
  {
   "cell_type": "markdown",
   "metadata": {
    "id": "pFDTU8_Vv9k3"
   },
   "source": [
    "# ***Practice Problem***\n",
    "\n",
    "*Write a function to calculate the area of a rectange*"
   ]
  },
  {
   "cell_type": "code",
   "execution_count": null,
   "metadata": {
    "id": "3VOGeAy7fL2g"
   },
   "outputs": [],
   "source": [
    "# area of rectangle"
   ]
  },
  {
   "cell_type": "markdown",
   "metadata": {
    "id": "X_jFlizfoQ_x"
   },
   "source": [
    "# ***Practice Problem***\n",
    "\n",
    "*Write a function that calculates the radius of a sphere from its volume*"
   ]
  },
  {
   "cell_type": "code",
   "execution_count": null,
   "metadata": {
    "id": "ZYJVMAWtndcy"
   },
   "outputs": [],
   "source": [
    "# radius calculation"
   ]
  },
  {
   "cell_type": "markdown",
   "metadata": {
    "id": "WFOVQKuWpwTL"
   },
   "source": [
    "# ***Practice Problem***\n",
    "\n",
    "*Write a function that returns the square of any number given to it*"
   ]
  },
  {
   "cell_type": "code",
   "execution_count": null,
   "metadata": {
    "id": "Jr_sdaRqpr6V"
   },
   "outputs": [],
   "source": [
    "# square problem"
   ]
  },
  {
   "cell_type": "markdown",
   "metadata": {
    "id": "_Oj6MxzOp-Ri"
   },
   "source": [
    "# ***Practice Problem***\n",
    "\n",
    "*Using function calculate the summation of the square of first 10 natural numbers.*"
   ]
  },
  {
   "cell_type": "code",
   "execution_count": null,
   "metadata": {
    "id": "dP8oHuAPp7Uj"
   },
   "outputs": [],
   "source": [
    "# square sum"
   ]
  },
  {
   "cell_type": "markdown",
   "metadata": {
    "id": "_EOvNyq9qbvY"
   },
   "source": [
    "# ***Practice Problem***\n",
    "\n",
    "*Write a program to print out the first 10 digits of the Fibonacci sequence. Can you calculate the golden ratio from Fibonacci Sequence*"
   ]
  },
  {
   "cell_type": "code",
   "execution_count": null,
   "metadata": {
    "id": "9JSpZD1tq0Hd"
   },
   "outputs": [],
   "source": [
    "# Fibonacci sequence"
   ]
  },
  {
   "cell_type": "code",
   "execution_count": null,
   "metadata": {
    "id": "ekPstcIlqHYw"
   },
   "outputs": [],
   "source": [
    "# We can be creative to do more with funcitons"
   ]
  },
  {
   "cell_type": "code",
   "execution_count": null,
   "metadata": {
    "id": "gn2Tt-iOz6qe"
   },
   "outputs": [],
   "source": []
  }
 ],
 "metadata": {
  "colab": {
   "include_colab_link": true,
   "provenance": []
  },
  "kernelspec": {
   "display_name": "Python 3 (ipykernel)",
   "language": "python",
   "name": "python3"
  },
  "language_info": {
   "codemirror_mode": {
    "name": "ipython",
    "version": 3
   },
   "file_extension": ".py",
   "mimetype": "text/x-python",
   "name": "python",
   "nbconvert_exporter": "python",
   "pygments_lexer": "ipython3",
   "version": "3.11.3"
  }
 },
 "nbformat": 4,
 "nbformat_minor": 1
}
